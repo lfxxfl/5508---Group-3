{
 "cells": [
  {
   "cell_type": "code",
   "execution_count": 42,
   "id": "fcc2ac61-e291-4531-95ea-2e3bbc0955fa",
   "metadata": {
    "tags": []
   },
   "outputs": [],
   "source": [
    "import pandas as pd"
   ]
  },
  {
   "cell_type": "code",
   "execution_count": 43,
   "id": "1cc94e4f-1afc-4eb1-ace5-4a9b60cc6ff4",
   "metadata": {
    "tags": []
   },
   "outputs": [
    {
     "name": "stdout",
     "output_type": "stream",
     "text": [
      "              precision    recall  f1-score   support\n",
      "\n",
      "           0       0.62      0.22      0.32       397\n",
      "           1       0.72      0.94      0.81       849\n",
      "\n",
      "    accuracy                           0.71      1246\n",
      "   macro avg       0.67      0.58      0.57      1246\n",
      "weighted avg       0.69      0.71      0.66      1246\n",
      "\n",
      "[[ 86 311]\n",
      " [ 52 797]]\n"
     ]
    }
   ],
   "source": [
    "from sklearn.model_selection import train_test_split\n",
    "from sklearn.feature_extraction.text import TfidfVectorizer\n",
    "from sklearn.linear_model import LogisticRegression\n",
    "from sklearn.metrics import classification_report, confusion_matrix\n",
    "\n",
    "# 读取带有标签的数据集\n",
    "df = pd.read_csv(r\"C:\\Users\\user\\Desktop\\Miki\\5508\\Project\\labeled_df.csv\")\n",
    "\n",
    "# 定义特征和目标变量\n",
    "X = df['Combined_Content']  # 特征：合并后的文本内容\n",
    "y = df['label']             # 目标变量：标签\n",
    "\n",
    "# 划分数据集为训练集和测试集\n",
    "X_train, X_test, y_train, y_test = train_test_split(X, y, test_size=0.3, random_state=42)\n",
    "\n",
    "# 初始化TF-IDF向量化器\n",
    "tfidf_vectorizer = TfidfVectorizer(max_features=5000)\n",
    "\n",
    "# 对训练数据拟合并转换为TF-IDF特征\n",
    "X_train_tfidf = tfidf_vectorizer.fit_transform(X_train)\n",
    "\n",
    "# 对测试数据只进行转换\n",
    "X_test_tfidf = tfidf_vectorizer.transform(X_test)\n",
    "\n",
    "# 初始化逻辑回归模型\n",
    "logistic_model = LogisticRegression(solver='liblinear', random_state=42)\n",
    "\n",
    "# 训练模型\n",
    "logistic_model.fit(X_train_tfidf, y_train)\n",
    "\n",
    "# 在测试集上进行预测\n",
    "y_pred = logistic_model.predict(X_test_tfidf)\n",
    "\n",
    "# 输出分类报告\n",
    "print(classification_report(y_test, y_pred))\n",
    "\n",
    "# 输出混淆矩阵\n",
    "print(confusion_matrix(y_test, y_pred))\n"
   ]
  },
  {
   "cell_type": "code",
   "execution_count": 44,
   "id": "8f344708-20e8-4e59-80a5-b3f92dc6cb12",
   "metadata": {
    "tags": []
   },
   "outputs": [
    {
     "name": "stdout",
     "output_type": "stream",
     "text": [
      "False Positives:                                                 Content  True Label  \\\n",
      "318   161112 2200上傳下載附件1031 KB161112 2200上傳下載附件19728...           0   \n",
      "1228  本帖最後由 celavie 於 11813 2205 編輯請CLICK 入有好心人已將資料整...           0   \n",
      "2228  早幾日收到的1291 2111上傳下載附件7849 KB 同佢玩下野 同佢傾下計啦 可能係想...           0   \n",
      "1766  岩岩有個電話打哩中左獎中左bb學習套裝中左咩8號獎上荷花個網又唔見有哩樣野之後又約時間俾我又...           0   \n",
      "1222  小心核實收據特別是減價貨品超市說減價但印出來的價單是舊價或者收銀機收的是舊價特別是廣告用斤店...           0   \n",
      "...                                                 ...         ...   \n",
      "637   呢間野激死我我個女係個度學畫畫學左一排我個女有日返黎同我講佢唔鍾意係個度學畫畫我問點解啦女女...           0   \n",
      "1097  我唔係話我張單特別大我去麥當勞買左個辣雞腿包比左個麥香雞包我我知道辣雞腿包舊雞大一半我好聲好...           0   \n",
      "3738  以前食開麥當奴 20件麥樂雞 BK要揸車去好遠所以咁多年都無食過 點知多手click 入去發...           0   \n",
      "1978  22821 1714上傳下載附件104 MB22821 1714上傳下載附件90906 KB...           0   \n",
      "1612              有得報警嗎141220 0954上傳下載附件47327 KB 唔洗理佢就得           0   \n",
      "\n",
      "      Predicted Label  \n",
      "318                 1  \n",
      "1228                1  \n",
      "2228                1  \n",
      "1766                1  \n",
      "1222                1  \n",
      "...               ...  \n",
      "637                 1  \n",
      "1097                1  \n",
      "3738                1  \n",
      "1978                1  \n",
      "1612                1  \n",
      "\n",
      "[311 rows x 3 columns]\n",
      "False Negatives:                                                 Content  True Label  \\\n",
      "2535  有冇人中過呀夢幻組合師傅拉線補位調停本報訊用斤變両老掉牙伎倆橫行全港的鮑魚黨雖多次被踢爆但受...           1   \n",
      "1074  nan 係吾可以佢地覺得Hk好蝦 自求多福我地要團結一知有乜欺詐手法就廣傳提醒大家尤其老人家...           1   \n",
      "3330  空頭支票呃名牌 網上拍賣騙案猖獗 空頭支票呃名牌 網上拍賣騙案猖獗 1105上傳下載附件61...           1   \n",
      "3467  Bananabanana Studio 騙案我去BB展跟這間bananabanana stu...           1   \n",
      "179                            邊間speed dating公司好唔呃人 nan           1   \n",
      "1437  _001htmlreferhn2早前被指拖欠薪金及強積金供款並被業主入稟追租及要求收舖的凱施...           1   \n",
      "2955  今日假期第一日發覺電話騙案啲人都幾勤力最早嗰個九點幾就收到啱啱兩點幾又收到一個電話 5129...           1   \n",
      "816   個姓馬既老師講私人無謂野仲多過敎書咁多堂都係玩無任何真實處理或遇到情景問題既解答 只能講呃錢...           1   \n",
      "3573  葵涌區的街坊真係要小心呀如需要協助請與我聯絡明報A07 港聞 特稿20070925標示關鍵字...           1   \n",
      "1378                94102647入境處最後通知你聽到呢度我懷疑是詐騙即cut線 nan           1   \n",
      "2566  台灣炳x精製人蔘粉 詐騙中年人聲 稱 能 醫 百 病踢 爆 人 蔘 粉 騙 局以下係人蔘粉既...           1   \n",
      "1024  間診所我睇過三次我的姐姐兒子睇過至少九次好老實我睇三次是因為我只想攞假紙完全身體健康情況下佢...           1   \n",
      "3845  日本東京電力公司今天開始福島第一核電站核污染水第三輪排海預計持續到本月20日左右在北京外交部...           1   \n",
      "1815  話說尋老爺打黎揾老公我話佢沖涼中62問我知唔知c6問大陸姨ma借兩萬人仔我話唔知咁62叫我c...           1   \n",
      "3441  話說尋老爺打黎揾老公我話佢沖涼中62問我知唔知c6問大陸姨ma借兩萬人仔我話唔知咁62叫我c...           1   \n",
      "3450  明報 2011年6月7日星期二上午624明報專訊警方商業罪案調查科今年初發現新興求職騙案手法...           1   \n",
      "2689                               大家要小心口罩騙徒最好交收才付款 nan           1   \n",
      "3905            入境處2次 速遞包裹 1次 樓盤1 次 證明打擊電騙真有成效 非常感恩 nan           1   \n",
      "2810  電話騙徒利誘男童收贖金唉時下青年因貪念容易被不法之徒引誘綜合報道星島日報報道電話騙案日日有但...           1   \n",
      "3932  年幾前同幾個禮拜前都收到聲稱係速遞派件嘅真人電話騙案兩次分別報稱唔同公司嘅因為我無訂過嘢所謂...           1   \n",
      "1684  女人選男人 要像防範詐騙集團台灣蘋果日報20070913女人選男人 要像防範詐騙集團Q你在愛...           1   \n",
      "3912  先講少少背景 10月20 號緬甸詐騙園發生數十名被綁架中國人被槍殺 10月27 號 反抗軍聯...           1   \n",
      "1186  本報訊香港數碼廣播有限公司dbc遭前節目女主持楊美儀追討提早解僱的十六萬元合約餘款案楊當時在...           1   \n",
      "3572  雖然我無係上面買過野但我都有post D野上去近排唔單止有奶粉騙案又有二手3騙案大家小心哦 nan           1   \n",
      "2370  郭富城失去了一切騙局有新版本 騙徒虛構馬斯克與習近平握手照 0904上傳下載附件65267 ...           1   \n",
      "1514  有指凍結的金額更多達9億元警方與證監會近日採取聯合行動破獲一個在網上社交平台以不實消息利誘股...           1   \n",
      "3074  警方今8日公布今年首季電話騙案趨勢及數字其中涉及猜猜我是誰的類型最多佔整體電話騙案64假冒官...           1   \n",
      "6     本帖最後由 1998Ruby1998 於 19920 0018 編輯頭先收到呢個估計係 sc...           1   \n",
      "1216  上年放多左7日annual leave老細話係除工作日數9000x1522 唔係除月份跟住我...           1   \n",
      "1672  非禮罪在身 前校長再控詐騙 掌田家炳小學 涉25萬工程益胞弟明報2009年9月16日 星期三...           1   \n",
      "1652  隨着人們婚戀方式的不斷變化相關的詐騙活動也在日益翻新感情受到挫折的中年女性是此類案件中最大的...           1   \n",
      "3026  家中長老來電我收到電話通知你電話將2個鐘會停止所以拿拿淋打比我知問我發生左咩事好明顯騙案來啦...           1   \n",
      "1714  愛回家之開心速遞豹叔黎彼得Peter哥因入院做通波仔手術而停工休息三個月開工日子亦是得個等字...           1   \n",
      "4151  警方拘捕84人涉嫌與深水埗區53宗詐騙和洗黑錢案有關涉款超過11億元被捕人士涉嫌的罪名包括以...           1   \n",
      "1653  隨着人們婚戀方式的不斷變化相關的詐騙活動也在日益翻新感情受到挫折的中年女性是此類案件中最大的...           1   \n",
      "1922  空頭支票呃名牌 網上拍賣騙案猖獗 空頭支票呃名牌 網上拍賣騙案猖獗 1105上傳下載附件61...           1   \n",
      "1867  日日都收到3xxxxx電話真係好煩真心想問固網電話都實名登記可否倒截廣告或電騙電話例如廣告電...           1   \n",
      "3081  警方破獲歷來最大宗倫敦金騙案其中一名85歲富豪被騙去58億元年前他接獲一名自稱投資專家的騙徒...           1   \n",
      "4043  警方昨日22日下午約5時接獲一名25歲姓溫本地女子報案指早前回應陌生人在網上社交平台發出的招...           1   \n",
      "346   有無咁著數呀呃人都搵個好啲藉口啦而家啲騙案無奇不有1614 0804上傳下載附件1748 K...           1   \n",
      "2924  有人冒充富途行騙咁啱富途早幾分鐘用同一個途徑Qsms 提醒我小心被騙此外Qsms是什麼按入去...           1   \n",
      "1829  頭先有位男仕打電話來無話找邊個又無講自己係邊個一出聲就話自己電話改左你知我係邊個嗎我我唔知喎...           1   \n",
      "1760  岩岩有個咁既電話打黎顯示美國我係無朋友係個邊 覺得好奇怪無聽跟著有留言俾我 個留言話有個重要...           1   \n",
      "4032  過去一周執法部門共接獲91宗網上投資騙案總損失逾4300萬港元當中接近一半案件均源自白撞Wh...           1   \n",
      "929   終於明白顧傭公司點呃人錢個人明明喺香港就呃新顧主俾機票錢個人明明唔返印尼又呃機票錢都幾好賺喎...           1   \n",
      "3158             一睇就知騙案大家小心161121 0056上傳下載附件7419 KB nan           1   \n",
      "3791  nan 留意OP發言立場 整唔到入台證 承認咗係支那仔 嘲諷被捕抗爭者 抹黑攬炒呃錢 9 1...           1   \n",
      "1260  昨日陪朋友行花園街入鞋鋪睇鞋見到裡面儲貨鞋廠有兩個男年青人不斷用擴大器整寛啲鞋整完一對又一對...           1   \n",
      "507                            上網睇佢d couse好似好平會會呃人呢 nan           1   \n",
      "3204  岩岩有個咁既電話打黎顯示美國我係無朋友係個邊 覺得好奇怪無聽跟著有留言俾我 個留言話有個重要...           1   \n",
      "1962  小心騙子SmartoMe扮smartone23529 1843上傳下載附件17369 KB nan           1   \n",
      "4133  警方採取行動打擊詐騙和洗黑錢罪案共拘捕219人年齡介乎17至77歲大部份是傀儡戶口持有人警方...           1   \n",
      "\n",
      "      Predicted Label  \n",
      "2535                0  \n",
      "1074                0  \n",
      "3330                0  \n",
      "3467                0  \n",
      "179                 0  \n",
      "1437                0  \n",
      "2955                0  \n",
      "816                 0  \n",
      "3573                0  \n",
      "1378                0  \n",
      "2566                0  \n",
      "1024                0  \n",
      "3845                0  \n",
      "1815                0  \n",
      "3441                0  \n",
      "3450                0  \n",
      "2689                0  \n",
      "3905                0  \n",
      "2810                0  \n",
      "3932                0  \n",
      "1684                0  \n",
      "3912                0  \n",
      "1186                0  \n",
      "3572                0  \n",
      "2370                0  \n",
      "1514                0  \n",
      "3074                0  \n",
      "6                   0  \n",
      "1216                0  \n",
      "1672                0  \n",
      "1652                0  \n",
      "3026                0  \n",
      "1714                0  \n",
      "4151                0  \n",
      "1653                0  \n",
      "1922                0  \n",
      "1867                0  \n",
      "3081                0  \n",
      "4043                0  \n",
      "346                 0  \n",
      "2924                0  \n",
      "1829                0  \n",
      "1760                0  \n",
      "4032                0  \n",
      "929                 0  \n",
      "3158                0  \n",
      "3791                0  \n",
      "1260                0  \n",
      "507                 0  \n",
      "3204                0  \n",
      "1962                0  \n",
      "4133                0  \n"
     ]
    }
   ],
   "source": [
    "# 假设 df_test 是包含 X_test 和 y_test 的DataFrame\n",
    "df_test = pd.DataFrame({'Content': X_test, 'True Label': y_test, 'Predicted Label': y_pred})\n",
    "\n",
    "# 找出所有假正例（False Positives）\n",
    "false_positives = df_test[(df_test['True Label'] == 0) & (df_test['Predicted Label'] == 1)]\n",
    "\n",
    "# 找出所有假负例（False Negatives）\n",
    "false_negatives = df_test[(df_test['True Label'] == 1) & (df_test['Predicted Label'] == 0)]\n",
    "\n",
    "# 分别查看假正例和假负例\n",
    "print(\"False Positives:\", false_positives)\n",
    "print(\"False Negatives:\", false_negatives)\n"
   ]
  },
  {
   "cell_type": "code",
   "execution_count": 45,
   "id": "a13f9510-bd35-4cf9-8121-840eada85d4d",
   "metadata": {
    "tags": []
   },
   "outputs": [
    {
     "name": "stdout",
     "output_type": "stream",
     "text": [
      "Requirement already satisfied: nltk in c:\\users\\user\\anaconda3\\lib\\site-packages (3.8.1)Note: you may need to restart the kernel to use updated packages.\n",
      "\n",
      "Requirement already satisfied: click in c:\\users\\user\\anaconda3\\lib\\site-packages (from nltk) (8.0.4)\n",
      "Requirement already satisfied: joblib in c:\\users\\user\\anaconda3\\lib\\site-packages (from nltk) (1.2.0)\n",
      "Requirement already satisfied: regex>=2021.8.3 in c:\\users\\user\\anaconda3\\lib\\site-packages (from nltk) (2022.7.9)\n",
      "Requirement already satisfied: tqdm in c:\\users\\user\\anaconda3\\lib\\site-packages (from nltk) (4.65.0)\n",
      "Requirement already satisfied: colorama in c:\\users\\user\\anaconda3\\lib\\site-packages (from click->nltk) (0.4.6)\n"
     ]
    }
   ],
   "source": [
    "pip install nltk"
   ]
  },
  {
   "cell_type": "code",
   "execution_count": 46,
   "id": "2e47fc17-3904-4154-a4ed-e18ff6830e2d",
   "metadata": {
    "tags": []
   },
   "outputs": [
    {
     "name": "stdout",
     "output_type": "stream",
     "text": [
      "Top unigrams in False Positives: [('發表於', 590), ('kb', 154), ('本帖最後由', 100), ('20222', 88), ('ckbb', 52), ('20221', 44), ('thanks', 39), ('email', 38), ('140909', 35), ('顯示更多', 27), ('120802', 26), ('100', 24), ('account', 24), ('22821', 23), ('回覆負評過多按此顯示原文', 23), ('27', 22), ('20', 21), ('編輯', 21), ('sharing', 20), ('28歲點會唱四大天王', 19), ('21817', 18), ('2198', 18), ('mraugust', 18), ('nan', 18), ('130613', 17), ('1845', 17), ('pm', 17), ('多謝提醒', 17), ('10', 16), ('23111', 16), ('pls', 16), ('sharonchung', 16), ('09228', 15), ('140320', 15), ('20730', 15), ('thx', 15), ('引用', 15), ('140425', 14), ('14320', 14), ('150122', 14), ('send', 14), ('120813', 13), ('18415', 13), ('1846', 13), ('2728', 13), ('la', 13), ('呀姨', 13), ('家常便飯1264', 13), ('12622', 12), ('160115', 12)]\n",
      "Top unigrams in False Negatives: [('nan', 51), ('kb', 10), ('空頭支票呃名牌', 4), ('網上拍賣騙案猖獗', 4), ('110', 2), ('1105上傳下載附件61862', 2), ('1140上傳下載附件1152', 2), ('140706', 2), ('realmad我唔想講明邊間但又唔想佢再用', 2), ('來呃人我只可這樣天水圍', 2), ('個留言話有個重要郵件尚未簽收', 2), ('商場', 2), ('地方都好細大家都有同感就一斉反應吓thank', 2), ('大家要小心151124', 2), ('岩岩有個咁既電話打黎顯示美國我係無朋友係個邊', 2), ('我已經知係騙案', 2), ('我更加無上網買野絕對唔會有郵件或交件野', 2), ('接近食麵嘅地方', 2), ('覺得好奇怪無聽跟著有留言俾我', 2), ('話說尋老爺打黎揾老公我話佢沖涼中62問我知唔知c6問大陸姨ma借兩萬人仔我話唔知咁62叫我c6沖完涼打比佢原來大陸姨ma收到電話問果位人兄係咪c6果個人當然話係啦之後問了幾句收線第二日騙子又打來話佢大陸出左事要兩萬人仔姨ma老公即周圍籌仲係欠d最後打比我99借之後打來問一輪確定左無呢件事姨ma先知比人呃', 2), ('講開先知原來我姐姐都係貪平全家都係睇嗰間但同我一樣每次都要160180先走得仔仔每次病都要睇34次先好就算無抗生素都要加30問佢點解竟然話藥水要溝太麻煩所以要加錢唉', 2), ('間診所我睇過三次我的姐姐兒子睇過至少九次好老實我睇三次是因為我只想攞假紙完全身體健康情況下佢竟然話我喉嚨有少少紅所以要食抗生素咁我都無辦法寫明係110以為加抗生素只係2030但俾錢時要180問佢點解會咁貴佢話隻抗生素要70我只好算數之後兩次都係咁貴咁我攞住包抗生素去藥房問吓要幾錢啦問咗三間都話比我聽包藥只值10', 2), ('0018', 1), ('0018上傳下載附件12095', 1), ('0056上傳下載附件7419', 1), ('0505明報專訊因非禮多名校內女教師被判囚6星期正保釋等候上訴的url將軍澳urlurl仁愛堂url田家炳小學前校長蘇有恆再惹官非蘇在當校長期間涉嫌將總值約25萬元的多項學校工程判予其弟擁有的公司涉案的還包括因向學生通水遭解僱的同校前教師馬世棠蘇氏兄弟及馬世棠因串謀詐騙昨被url廉政公署url落案起訴55歲的蘇有恆被控一項公職人員行為失當罪名涉嫌違反url普通法url另外他與胞弟蘇有昌53歲及馬世棠42歲同被控一項串謀詐騙罪名3名被告今日在url觀塘裁判法院url上庭答辯9項非禮罪成', 1), ('0804上傳下載附件1748', 1), ('0904上傳下載附件65267', 1), ('10月20', 1), ('10月27', 1), ('1843上傳下載附件17369', 1), ('1906上傳下載附件17521', 1), ('1906上傳下載附件6298', 1), ('19920', 1), ('1998ruby1998', 1), ('1次', 1), ('2011年6月7日星期二上午624明報專訊警方商業罪案調查科今年初發現新興求職騙案手法騙徒以市場推廣公司招聘為名游說獲聘為推銷員的年輕人入職前須報讀有聯繫的教育中心的昂貴課程本報更發現部分課程獲持續進修基金資助即騙徒除騙求職者金錢外更騙取公帑有議員狠批持續進修基金監管不足疑淪為傳銷課程的基金見另稿警方商罪科今年接獲8宗相關報案正在調查商罪科警司陳崇成表示因案件仍在調查未能透露太多案情防止罪案科高級督察陳啟法呼籲年輕人求職時因應個人能力勿隨意簽署文件如銀行授權書及僱傭合約投訴人受友邀請應徵本報早前接獲家長蕭先生投訴其中七兒子約1個月前透過友人邀請到旺角一間推廣公司應徵推銷員並被游說入職前花費156萬元報讀太子一間教育中心的商業及財經課程該中心推銷時稱課程獲持續進修基金資助如學生財務周轉不靈亦可申請貸款另一投訴人阿輝亦在友人推介下獲同一間公司聘任公司向他表明業務為推銷教育課程推銷員無底薪每成功推銷一個課程可獲回佣1000至2400元不等推銷一定數量後更可由trainee逐步晉升至supervisor但入職前須先於另一間位於太子的教育中心報讀約16萬元的英語課程轉介教育中心', 1), ('3102操國語口音衛生防衛中心我小到佢阿媽都唔認得', 1), ('5129', 1), ('94102647入境處最後通知你聽到呢度我懷疑是詐騙即cut線', 1), ('_001htmlreferhn2早前被指拖欠薪金及強積金供款並被業主入稟追租及要求收舖的凱施餅店據了解其大老闆蕭偉堅及妻子元雪全早前被油尖警區刑事調查隊拘捕據悉有人將4個分別位於深水埗青山道觀塘偉業街及九龍塘碧華花園的物業向財務公司申請1000萬港元按揭時謊稱上述4個物業無二按呃財務公司批出申請警方發言人表示去年12月接獲一名公司職員報案指2名男女為4個物業申請次順序抵押貸款並稱該4個物業只曾按揭一次報案人公司其後向該2人批出約1000萬港元貸款惟2人收到貸款後便失去聯絡公司職員其後發現該4個物業曾經在其他機構作抵押申請次順序抵押貸款油尖警區刑事調查隊於1月9日及昨日10日分別在九龍城區及尖沙咀區拘捕一名姓蕭67歲男子及一名姓元66歲女子涉嫌詐騙他們已獲准保釋候查須於2月上旬向警方報到凱施餅店去年被揭拖欠8月約76萬港元供款涉及約580名員工10月18日被2名業主入稟高等法院就2間位於灣仔及大圍舖位追討欠租涉款共逾170萬港元業主並要求將舖位清吉交回10月31日2間公司入稟高院指凱施餅店位於中環及鴨脷洲的舖位拖欠租金等費用追討共約237萬港元11月1日1間財務公司分2案入稟高院追討拖欠的貸款本金和利息另要求交還借貸時所抵押的5項物業分別位於牛頭角及北角11月18日領展入稟要求凱施將位於屯門筲箕灣及黃大仙的舖位交吉償還未支付的欠租及雜費等逾8萬港元並支付所衍生的利息去年12月原由該餅店持有的元朗大馬路全幢4層高舊樓商舖被財仔沒收委託代理招標放售物業市值約1億港元', 1), ('address同埋點樣得返嚟就算我答有無人都好佢真係夠膽上嚟咩同埋上到嚟有無人都好佢都係要搶爆門咁已經超出咗騙案定佢哋呢款個後著其實會點純粹好奇想了解下', 1), ('bananabanana', 1), ('call及社交媒體隨機接觸至少七名事主騙徒自稱有豐富投資經驗又對事主噓寒問暖博取信任相約見面後再游說他們投資倫敦金並誘騙簽署授權文件讓經紀全權操作戶口據了解向八旬富豪行騙的是一名年輕騙徒他先以隨機電話聯絡上事主後不斷吹噓投資倫敦金容易賺大錢又駕名車相約事主見面以顯示自己投資有道賺大錢富豪投資倫敦金小勝一兩回後就不斷虧蝕但對方叫他再投資指有信心一定可賺回其後又着事主投資其他項目指回報高事主信以為真加上心急回本最終前後過賬超過10次給騙徒的公司累計58億元事主去年底與家人談及此事後懷疑受騙報警其餘六名被騙者分別來自香港美國加拿大新加坡澳洲及新西蘭大部份為華裔警方懷疑還有其他受害人正深入追查消息稱部份海外事主親自來港簽約部份則透過電子簽約授權當事主將款項直接存入公司戶口或個人戶口後騙徒都是先讓事主賺錢其後通知事主投資失利全數虧蝕要求事主加碼最後全輸光警方調查後發現部份事主的款項曾經被用作高頻交易但是部份款項在沒有做交易下不翼而飛警拘14人', 1), ('call接觸事主七名年齡32至85歲的受害人之中以最年長的男子損失最嚴重這名居於港島南區的富豪先後被騙去58億元譚威信說2016年6月至2018年10月期間涉案投資公司以cold', 1), ('couse好似好平會會呃人呢', 1), ('dating公司好唔呃人', 1), ('d野上去近排唔單止有奶粉騙案又有二手3騙案大家小心哦', 1), ('kb221013', 1), ('leave老細話係除工作日數9000x1522', 1)]\n"
     ]
    },
    {
     "name": "stderr",
     "output_type": "stream",
     "text": [
      "[nltk_data] Downloading package punkt to\n",
      "[nltk_data]     C:\\Users\\user\\AppData\\Roaming\\nltk_data...\n",
      "[nltk_data]   Package punkt is already up-to-date!\n"
     ]
    }
   ],
   "source": [
    "from sklearn.feature_extraction.text import CountVectorizer\n",
    "from collections import Counter\n",
    "import nltk\n",
    "from nltk.tokenize import word_tokenize\n",
    "\n",
    "# 确保nltk资源已下载\n",
    "nltk.download('punkt')\n",
    "\n",
    "# 定义一个函数来找出文本中最常见的N-grams\n",
    "def get_top_ngrams(corpus, n=None):\n",
    "    vec = CountVectorizer(ngram_range=(n, n), stop_words='english').fit(corpus)\n",
    "    bag_of_words = vec.transform(corpus)\n",
    "    sum_words = bag_of_words.sum(axis=0)\n",
    "    words_freq = [(word, sum_words[0, idx]) for word, idx in sorted(vec.vocabulary_.items(), key=lambda x: x[1])]\n",
    "    words_freq = sorted(words_freq, key=lambda x: x[1], reverse=True)\n",
    "    return words_freq[:50]\n",
    "\n",
    "# 示例：应用到你的数据中，确保你已经有了 false_positives 和 false_negatives DataFrame\n",
    "print(\"Top unigrams in False Positives:\", get_top_ngrams(false_positives['Content'], 1))\n",
    "print(\"Top unigrams in False Negatives:\", get_top_ngrams(false_negatives['Content'], 1))\n"
   ]
  },
  {
   "cell_type": "code",
   "execution_count": 47,
   "id": "1c0f4a16-c7b6-4302-bf1e-49667b372651",
   "metadata": {
    "tags": []
   },
   "outputs": [
    {
     "name": "stdout",
     "output_type": "stream",
     "text": [
      "Requirement already satisfied: imbalanced-learn in c:\\users\\user\\anaconda3\\lib\\site-packages (0.12.2)\n",
      "Requirement already satisfied: numpy>=1.17.3 in c:\\users\\user\\anaconda3\\lib\\site-packages (from imbalanced-learn) (1.24.3)\n",
      "Requirement already satisfied: scipy>=1.5.0 in c:\\users\\user\\anaconda3\\lib\\site-packages (from imbalanced-learn) (1.10.1)\n",
      "Requirement already satisfied: scikit-learn>=1.0.2 in c:\\users\\user\\anaconda3\\lib\\site-packages (from imbalanced-learn) (1.3.0)\n",
      "Requirement already satisfied: joblib>=1.1.1 in c:\\users\\user\\anaconda3\\lib\\site-packages (from imbalanced-learn) (1.2.0)\n",
      "Requirement already satisfied: threadpoolctl>=2.0.0 in c:\\users\\user\\anaconda3\\lib\\site-packages (from imbalanced-learn) (2.2.0)\n",
      "Note: you may need to restart the kernel to use updated packages.\n"
     ]
    }
   ],
   "source": [
    "pip install -U imbalanced-learn"
   ]
  },
  {
   "cell_type": "code",
   "execution_count": 48,
   "id": "aeeb4f02-1504-4508-9b01-c0e9c686d597",
   "metadata": {
    "tags": []
   },
   "outputs": [
    {
     "name": "stdout",
     "output_type": "stream",
     "text": [
      "              precision    recall  f1-score   support\n",
      "\n",
      "           0       0.47      0.42      0.44       397\n",
      "           1       0.74      0.78      0.76       849\n",
      "\n",
      "    accuracy                           0.67      1246\n",
      "   macro avg       0.61      0.60      0.60      1246\n",
      "weighted avg       0.66      0.67      0.66      1246\n",
      "\n"
     ]
    }
   ],
   "source": [
    "import pandas as pd\n",
    "from sklearn.model_selection import train_test_split\n",
    "from sklearn.feature_extraction.text import TfidfVectorizer\n",
    "from sklearn.linear_model import LogisticRegression\n",
    "from sklearn.metrics import classification_report\n",
    "from imblearn.over_sampling import SMOTE\n",
    "\n",
    "# 读取数据\n",
    "df = pd.read_csv(r'C:\\Users\\user\\Desktop\\Miki\\5508\\Project\\labeled_df.csv')\n",
    "\n",
    "# 处理空值\n",
    "df['Combined_Content'] = df['Combined_Content'].fillna('')\n",
    "\n",
    "# 移除可能导致误分类的词汇\n",
    "words_to_remove = ['發表於', '本帖最後由', '編輯', 'kb', 'thanks', 'email', '顯示更多', '回覆負評過多按此顯示原文']\n",
    "for word in words_to_remove:\n",
    "    df['Combined_Content'] = df['Combined_Content'].str.replace(word, '', regex=False)\n",
    "\n",
    "# 定义特征和目标变量\n",
    "X = df['Combined_Content']\n",
    "y = df['label']\n",
    "\n",
    "# 划分数据集\n",
    "X_train, X_test, y_train, y_test = train_test_split(X, y, test_size=0.3, random_state=42)\n",
    "\n",
    "# 过采样少数类\n",
    "sm = SMOTE(random_state=42)\n",
    "vectorizer = TfidfVectorizer(max_features=5000)\n",
    "X_train_tfidf = vectorizer.fit_transform(X_train)\n",
    "X_train_res, y_train_res = sm.fit_resample(X_train_tfidf, y_train)\n",
    "\n",
    "# 训练模型\n",
    "model = LogisticRegression(solver='liblinear', random_state=42)\n",
    "model.fit(X_train_res, y_train_res)\n",
    "\n",
    "# 评估模型\n",
    "X_test_tfidf = vectorizer.transform(X_test)\n",
    "y_pred = model.predict(X_test_tfidf)\n",
    "print(classification_report(y_test, y_pred))\n"
   ]
  },
  {
   "cell_type": "code",
   "execution_count": 49,
   "id": "ce53120c-bcae-4aad-bad7-dff8bfd5db09",
   "metadata": {
    "tags": []
   },
   "outputs": [],
   "source": [
    "#看到了一些改进，尤其是在非诈骗内容（类别 0）的召回率方面，从0.22提高到了0.42。这意味着模型现在能够更好地识别出非诈骗的内容。\n",
    "#同时，诈骗内容（类别 1）的精确度和召回率也保持在较高水平，虽然精确度有所下降，但召回率有所提升。虽然总体准确率略有下降，\n",
    "#但宏观平均（macro avg）的精确度、召回率和F1分数都有所提高，这表明模型在两个类别之间的平衡方面有所改进。"
   ]
  },
  {
   "cell_type": "code",
   "execution_count": 50,
   "id": "aaf4628f",
   "metadata": {
    "tags": []
   },
   "outputs": [
    {
     "name": "stdout",
     "output_type": "stream",
     "text": [
      "Best parameters: {'max_depth': None, 'n_estimators': 100}\n",
      "              precision    recall  f1-score   support\n",
      "\n",
      "           0       0.46      0.68      0.54       397\n",
      "           1       0.80      0.62      0.70       849\n",
      "\n",
      "    accuracy                           0.64      1246\n",
      "   macro avg       0.63      0.65      0.62      1246\n",
      "weighted avg       0.69      0.64      0.65      1246\n",
      "\n"
     ]
    }
   ],
   "source": [
    "from imblearn.over_sampling import SMOTE\n",
    "from sklearn.feature_extraction.text import TfidfVectorizer\n",
    "from sklearn.ensemble import RandomForestClassifier\n",
    "from sklearn.model_selection import GridSearchCV, train_test_split\n",
    "from sklearn.metrics import classification_report\n",
    "\n",
    "# 假设df是你的DataFrame，并且已经包含了'Combined_Content'和'label'列\n",
    "X = df['Combined_Content']\n",
    "y = df['label']\n",
    "\n",
    "# 划分数据集\n",
    "X_train, X_test, y_train, y_test = train_test_split(X, y, test_size=0.3, random_state=42)\n",
    "\n",
    "# 初始化TF-IDF向量化器并转换训练和测试数据\n",
    "tfidf_vectorizer = TfidfVectorizer(max_features=5000)\n",
    "X_train_tfidf = tfidf_vectorizer.fit_transform(X_train)\n",
    "X_test_tfidf = tfidf_vectorizer.transform(X_test)\n",
    "\n",
    "# 使用SMOTE进行过采样\n",
    "smote = SMOTE(random_state=42)\n",
    "X_train_res, y_train_res = smote.fit_resample(X_train_tfidf, y_train)\n",
    "\n",
    "# 使用随机森林分类器\n",
    "rf = RandomForestClassifier(random_state=42)\n",
    "\n",
    "# 定义要搜索的参数网格\n",
    "param_grid = {\n",
    "    'n_estimators': [50, 100, 200],  # 树的数量\n",
    "    'max_depth': [None, 10, 20, 30],  # 树的最大深度\n",
    "}\n",
    "\n",
    "# 网格搜索对象\n",
    "grid_search = GridSearchCV(estimator=rf, param_grid=param_grid, cv=3, n_jobs=-1)\n",
    "\n",
    "# 在训练数据上运行网格搜索\n",
    "grid_search.fit(X_train_res, y_train_res)\n",
    "\n",
    "# 输出最佳参数\n",
    "print(\"Best parameters:\", grid_search.best_params_)\n",
    "\n",
    "# 使用最佳参数的模型在测试集上进行预测\n",
    "best_rf = grid_search.best_estimator_\n",
    "y_pred = best_rf.predict(X_test_tfidf)\n",
    "\n",
    "# 评估模型\n",
    "print(classification_report(y_test, y_pred))"
   ]
  },
  {
   "cell_type": "code",
   "execution_count": 51,
   "id": "bef183fb-626b-459e-8984-d08ca7d8e0d5",
   "metadata": {
    "tags": []
   },
   "outputs": [
    {
     "name": "stdout",
     "output_type": "stream",
     "text": [
      "Top 100 important features:\n",
      "nan: 0.04768025248001265\n",
      "kb: 0.024275779645682186\n",
      "up: 0.007763411881147302\n",
      "多謝提醒: 0.006467064029385735\n",
      "push: 0.0060007110820091535\n",
      "in: 0.005831557751427111\n",
      "thx: 0.005245612114391971\n",
      "pm: 0.005223451366814625\n",
      "發表: 0.004960135726196841\n",
      "for: 0.004889044759471016\n",
      "謝謝提醒: 0.004856899761638935\n",
      "報警: 0.004740416907158021\n",
      "littlefunpig: 0.004376979824792321\n",
      "我都收過: 0.004356055377757058\n",
      "回覆: 0.004088740163082778\n",
      "whatsapp: 0.004025743735054851\n",
      "大力大力: 0.003995866270884702\n",
      "chuiyeebird: 0.003844218386443639\n",
      "咁都得: 0.0037833494293805247\n",
      "發表回覆: 0.0037339974362522177\n",
      "引用: 0.0036935765679535822\n",
      "no: 0.0036447217214157653\n",
      "call: 0.003491759787242009\n",
      "shobi: 0.0034012749630815673\n",
      "or: 0.0033993409096459916\n",
      "百年x司海外菲傭: 0.003388530564831951\n",
      "yahoo: 0.003384413556510572\n",
      "mickeyeva: 0.0032682404979538747\n",
      "mandy952: 0.003242998243595323\n",
      "so: 0.0031928470337474844\n",
      "thanks: 0.003192774004970468\n",
      "香港01: 0.0031564602405511686\n",
      "fb: 0.0029971906224939087\n",
      "我都收到: 0.0029043736823613124\n",
      "post: 0.0028604979473967214\n",
      "bk: 0.002780625201424332\n",
      "too: 0.0027309139238899595\n",
      "係呀: 0.0027292007416409554\n",
      "you: 0.0026905518498048244\n",
      "am: 0.0026828895986078178\n",
      "the: 0.00267924507600056\n",
      "from: 0.0026724448563779997\n",
      "tongue: 0.002598209181021881\n",
      "sharing: 0.002575709939580364\n",
      "good_pig: 0.002559578366351189\n",
      "哈哈: 0.002532176584681979\n",
      "account: 0.0025050640849277116\n",
      "電話: 0.002498364769398017\n",
      "大姑娘: 0.002454308237946003\n",
      "to: 0.00243555048285936\n",
      "14: 0.0024177267470379994\n",
      "haha: 0.0023404032677417203\n",
      "大家小心: 0.0023079146594934853\n",
      "carolwong168: 0.0022785466060479833\n",
      "hk: 0.002242105746318201\n",
      "la: 0.002220645591725469\n",
      "呃人: 0.0021996361291717397\n",
      "search: 0.0021629442997730883\n",
      "xxx: 0.0021619734106680657\n",
      "card: 0.0021537389435310403\n",
      "cut: 0.0021193331162516226\n",
      "15: 0.002099378557657035\n",
      "謝謝分享: 0.0020955194719046574\n",
      "幫推: 0.0020858122189343757\n",
      "thank: 0.0020821052994275534\n",
      "做得好: 0.002038977058507678\n",
      "me: 0.002022887049236491\n",
      "騙子: 0.00200836682418522\n",
      "amythepooh: 0.0020007775419765895\n",
      "不實和欺騙的手法: 0.001969087401710223\n",
      "生煎包: 0.001955780433829851\n",
      "10: 0.0019373482142117985\n",
      "and: 0.0019340299840144323\n",
      "my: 0.0019188266290411824\n",
      "app: 0.0019187181292479735\n",
      "ig: 0.0018714150852288838\n",
      "is: 0.00185338464172498\n",
      "咁衰: 0.0018465739923233962\n",
      "如題: 0.0018096579513566602\n",
      "send: 0.0017238607523419464\n",
      "good: 0.0017228093055917976\n",
      "140310: 0.0017148909280214559\n",
      "check: 0.0016918305775987488\n",
      "on: 0.0016881845177857862\n",
      "yurijm: 0.001669898558629635\n",
      "13: 0.0016662099110327409\n",
      "lihkg: 0.001661622266713256\n",
      "謝謝: 0.0016465233633392515\n",
      "crystal媽咪: 0.0016458309591818536\n",
      "hello: 0.0016366891942191332\n",
      "pppp: 0.001633645747172921\n",
      "block: 0.001623884918023669\n",
      "sorry: 0.0016166020379257875\n",
      "2000: 0.0016097425796933816\n",
      "mouthmouthmouth: 0.0015873853087046406\n",
      "mouth: 0.0015752149247737855\n",
      "sales: 0.0015709313429212856\n",
      "mrgreen: 0.0015497249976036734\n",
      "便宜莫貪: 0.0015063453382502582\n",
      "cheap: 0.0015017581310777614\n"
     ]
    },
    {
     "name": "stderr",
     "output_type": "stream",
     "text": [
      "C:\\Users\\user\\anaconda3\\Lib\\site-packages\\IPython\\core\\pylabtools.py:152: UserWarning: Glyph 22810 (\\N{CJK UNIFIED IDEOGRAPH-591A}) missing from current font.\n",
      "  fig.canvas.print_figure(bytes_io, **kw)\n",
      "C:\\Users\\user\\anaconda3\\Lib\\site-packages\\IPython\\core\\pylabtools.py:152: UserWarning: Glyph 35613 (\\N{CJK UNIFIED IDEOGRAPH-8B1D}) missing from current font.\n",
      "  fig.canvas.print_figure(bytes_io, **kw)\n",
      "C:\\Users\\user\\anaconda3\\Lib\\site-packages\\IPython\\core\\pylabtools.py:152: UserWarning: Glyph 25552 (\\N{CJK UNIFIED IDEOGRAPH-63D0}) missing from current font.\n",
      "  fig.canvas.print_figure(bytes_io, **kw)\n",
      "C:\\Users\\user\\anaconda3\\Lib\\site-packages\\IPython\\core\\pylabtools.py:152: UserWarning: Glyph 37266 (\\N{CJK UNIFIED IDEOGRAPH-9192}) missing from current font.\n",
      "  fig.canvas.print_figure(bytes_io, **kw)\n",
      "C:\\Users\\user\\anaconda3\\Lib\\site-packages\\IPython\\core\\pylabtools.py:152: UserWarning: Glyph 30332 (\\N{CJK UNIFIED IDEOGRAPH-767C}) missing from current font.\n",
      "  fig.canvas.print_figure(bytes_io, **kw)\n",
      "C:\\Users\\user\\anaconda3\\Lib\\site-packages\\IPython\\core\\pylabtools.py:152: UserWarning: Glyph 34920 (\\N{CJK UNIFIED IDEOGRAPH-8868}) missing from current font.\n",
      "  fig.canvas.print_figure(bytes_io, **kw)\n",
      "C:\\Users\\user\\anaconda3\\Lib\\site-packages\\IPython\\core\\pylabtools.py:152: UserWarning: Glyph 22577 (\\N{CJK UNIFIED IDEOGRAPH-5831}) missing from current font.\n",
      "  fig.canvas.print_figure(bytes_io, **kw)\n",
      "C:\\Users\\user\\anaconda3\\Lib\\site-packages\\IPython\\core\\pylabtools.py:152: UserWarning: Glyph 35686 (\\N{CJK UNIFIED IDEOGRAPH-8B66}) missing from current font.\n",
      "  fig.canvas.print_figure(bytes_io, **kw)\n",
      "C:\\Users\\user\\anaconda3\\Lib\\site-packages\\IPython\\core\\pylabtools.py:152: UserWarning: Glyph 25105 (\\N{CJK UNIFIED IDEOGRAPH-6211}) missing from current font.\n",
      "  fig.canvas.print_figure(bytes_io, **kw)\n",
      "C:\\Users\\user\\anaconda3\\Lib\\site-packages\\IPython\\core\\pylabtools.py:152: UserWarning: Glyph 37117 (\\N{CJK UNIFIED IDEOGRAPH-90FD}) missing from current font.\n",
      "  fig.canvas.print_figure(bytes_io, **kw)\n",
      "C:\\Users\\user\\anaconda3\\Lib\\site-packages\\IPython\\core\\pylabtools.py:152: UserWarning: Glyph 25910 (\\N{CJK UNIFIED IDEOGRAPH-6536}) missing from current font.\n",
      "  fig.canvas.print_figure(bytes_io, **kw)\n",
      "C:\\Users\\user\\anaconda3\\Lib\\site-packages\\IPython\\core\\pylabtools.py:152: UserWarning: Glyph 36942 (\\N{CJK UNIFIED IDEOGRAPH-904E}) missing from current font.\n",
      "  fig.canvas.print_figure(bytes_io, **kw)\n",
      "C:\\Users\\user\\anaconda3\\Lib\\site-packages\\IPython\\core\\pylabtools.py:152: UserWarning: Glyph 22238 (\\N{CJK UNIFIED IDEOGRAPH-56DE}) missing from current font.\n",
      "  fig.canvas.print_figure(bytes_io, **kw)\n",
      "C:\\Users\\user\\anaconda3\\Lib\\site-packages\\IPython\\core\\pylabtools.py:152: UserWarning: Glyph 35206 (\\N{CJK UNIFIED IDEOGRAPH-8986}) missing from current font.\n",
      "  fig.canvas.print_figure(bytes_io, **kw)\n",
      "C:\\Users\\user\\anaconda3\\Lib\\site-packages\\IPython\\core\\pylabtools.py:152: UserWarning: Glyph 22823 (\\N{CJK UNIFIED IDEOGRAPH-5927}) missing from current font.\n",
      "  fig.canvas.print_figure(bytes_io, **kw)\n",
      "C:\\Users\\user\\anaconda3\\Lib\\site-packages\\IPython\\core\\pylabtools.py:152: UserWarning: Glyph 21147 (\\N{CJK UNIFIED IDEOGRAPH-529B}) missing from current font.\n",
      "  fig.canvas.print_figure(bytes_io, **kw)\n",
      "C:\\Users\\user\\anaconda3\\Lib\\site-packages\\IPython\\core\\pylabtools.py:152: UserWarning: Glyph 21633 (\\N{CJK UNIFIED IDEOGRAPH-5481}) missing from current font.\n",
      "  fig.canvas.print_figure(bytes_io, **kw)\n",
      "C:\\Users\\user\\anaconda3\\Lib\\site-packages\\IPython\\core\\pylabtools.py:152: UserWarning: Glyph 24471 (\\N{CJK UNIFIED IDEOGRAPH-5F97}) missing from current font.\n",
      "  fig.canvas.print_figure(bytes_io, **kw)\n",
      "C:\\Users\\user\\anaconda3\\Lib\\site-packages\\IPython\\core\\pylabtools.py:152: UserWarning: Glyph 24341 (\\N{CJK UNIFIED IDEOGRAPH-5F15}) missing from current font.\n",
      "  fig.canvas.print_figure(bytes_io, **kw)\n",
      "C:\\Users\\user\\anaconda3\\Lib\\site-packages\\IPython\\core\\pylabtools.py:152: UserWarning: Glyph 29992 (\\N{CJK UNIFIED IDEOGRAPH-7528}) missing from current font.\n",
      "  fig.canvas.print_figure(bytes_io, **kw)\n",
      "C:\\Users\\user\\anaconda3\\Lib\\site-packages\\IPython\\core\\pylabtools.py:152: UserWarning: Glyph 30334 (\\N{CJK UNIFIED IDEOGRAPH-767E}) missing from current font.\n",
      "  fig.canvas.print_figure(bytes_io, **kw)\n",
      "C:\\Users\\user\\anaconda3\\Lib\\site-packages\\IPython\\core\\pylabtools.py:152: UserWarning: Glyph 24180 (\\N{CJK UNIFIED IDEOGRAPH-5E74}) missing from current font.\n",
      "  fig.canvas.print_figure(bytes_io, **kw)\n",
      "C:\\Users\\user\\anaconda3\\Lib\\site-packages\\IPython\\core\\pylabtools.py:152: UserWarning: Glyph 21496 (\\N{CJK UNIFIED IDEOGRAPH-53F8}) missing from current font.\n",
      "  fig.canvas.print_figure(bytes_io, **kw)\n",
      "C:\\Users\\user\\anaconda3\\Lib\\site-packages\\IPython\\core\\pylabtools.py:152: UserWarning: Glyph 28023 (\\N{CJK UNIFIED IDEOGRAPH-6D77}) missing from current font.\n",
      "  fig.canvas.print_figure(bytes_io, **kw)\n",
      "C:\\Users\\user\\anaconda3\\Lib\\site-packages\\IPython\\core\\pylabtools.py:152: UserWarning: Glyph 22806 (\\N{CJK UNIFIED IDEOGRAPH-5916}) missing from current font.\n",
      "  fig.canvas.print_figure(bytes_io, **kw)\n",
      "C:\\Users\\user\\anaconda3\\Lib\\site-packages\\IPython\\core\\pylabtools.py:152: UserWarning: Glyph 33778 (\\N{CJK UNIFIED IDEOGRAPH-83F2}) missing from current font.\n",
      "  fig.canvas.print_figure(bytes_io, **kw)\n",
      "C:\\Users\\user\\anaconda3\\Lib\\site-packages\\IPython\\core\\pylabtools.py:152: UserWarning: Glyph 20653 (\\N{CJK UNIFIED IDEOGRAPH-50AD}) missing from current font.\n",
      "  fig.canvas.print_figure(bytes_io, **kw)\n",
      "C:\\Users\\user\\anaconda3\\Lib\\site-packages\\IPython\\core\\pylabtools.py:152: UserWarning: Glyph 39321 (\\N{CJK UNIFIED IDEOGRAPH-9999}) missing from current font.\n",
      "  fig.canvas.print_figure(bytes_io, **kw)\n",
      "C:\\Users\\user\\anaconda3\\Lib\\site-packages\\IPython\\core\\pylabtools.py:152: UserWarning: Glyph 28207 (\\N{CJK UNIFIED IDEOGRAPH-6E2F}) missing from current font.\n",
      "  fig.canvas.print_figure(bytes_io, **kw)\n",
      "C:\\Users\\user\\anaconda3\\Lib\\site-packages\\IPython\\core\\pylabtools.py:152: UserWarning: Glyph 21040 (\\N{CJK UNIFIED IDEOGRAPH-5230}) missing from current font.\n",
      "  fig.canvas.print_figure(bytes_io, **kw)\n",
      "C:\\Users\\user\\anaconda3\\Lib\\site-packages\\IPython\\core\\pylabtools.py:152: UserWarning: Glyph 20418 (\\N{CJK UNIFIED IDEOGRAPH-4FC2}) missing from current font.\n",
      "  fig.canvas.print_figure(bytes_io, **kw)\n",
      "C:\\Users\\user\\anaconda3\\Lib\\site-packages\\IPython\\core\\pylabtools.py:152: UserWarning: Glyph 21568 (\\N{CJK UNIFIED IDEOGRAPH-5440}) missing from current font.\n",
      "  fig.canvas.print_figure(bytes_io, **kw)\n",
      "C:\\Users\\user\\anaconda3\\Lib\\site-packages\\IPython\\core\\pylabtools.py:152: UserWarning: Glyph 21704 (\\N{CJK UNIFIED IDEOGRAPH-54C8}) missing from current font.\n",
      "  fig.canvas.print_figure(bytes_io, **kw)\n",
      "C:\\Users\\user\\anaconda3\\Lib\\site-packages\\IPython\\core\\pylabtools.py:152: UserWarning: Glyph 38651 (\\N{CJK UNIFIED IDEOGRAPH-96FB}) missing from current font.\n",
      "  fig.canvas.print_figure(bytes_io, **kw)\n",
      "C:\\Users\\user\\anaconda3\\Lib\\site-packages\\IPython\\core\\pylabtools.py:152: UserWarning: Glyph 35441 (\\N{CJK UNIFIED IDEOGRAPH-8A71}) missing from current font.\n",
      "  fig.canvas.print_figure(bytes_io, **kw)\n",
      "C:\\Users\\user\\anaconda3\\Lib\\site-packages\\IPython\\core\\pylabtools.py:152: UserWarning: Glyph 22993 (\\N{CJK UNIFIED IDEOGRAPH-59D1}) missing from current font.\n",
      "  fig.canvas.print_figure(bytes_io, **kw)\n",
      "C:\\Users\\user\\anaconda3\\Lib\\site-packages\\IPython\\core\\pylabtools.py:152: UserWarning: Glyph 23064 (\\N{CJK UNIFIED IDEOGRAPH-5A18}) missing from current font.\n",
      "  fig.canvas.print_figure(bytes_io, **kw)\n",
      "C:\\Users\\user\\anaconda3\\Lib\\site-packages\\IPython\\core\\pylabtools.py:152: UserWarning: Glyph 23478 (\\N{CJK UNIFIED IDEOGRAPH-5BB6}) missing from current font.\n",
      "  fig.canvas.print_figure(bytes_io, **kw)\n",
      "C:\\Users\\user\\anaconda3\\Lib\\site-packages\\IPython\\core\\pylabtools.py:152: UserWarning: Glyph 23567 (\\N{CJK UNIFIED IDEOGRAPH-5C0F}) missing from current font.\n",
      "  fig.canvas.print_figure(bytes_io, **kw)\n",
      "C:\\Users\\user\\anaconda3\\Lib\\site-packages\\IPython\\core\\pylabtools.py:152: UserWarning: Glyph 24515 (\\N{CJK UNIFIED IDEOGRAPH-5FC3}) missing from current font.\n",
      "  fig.canvas.print_figure(bytes_io, **kw)\n",
      "C:\\Users\\user\\anaconda3\\Lib\\site-packages\\IPython\\core\\pylabtools.py:152: UserWarning: Glyph 21571 (\\N{CJK UNIFIED IDEOGRAPH-5443}) missing from current font.\n",
      "  fig.canvas.print_figure(bytes_io, **kw)\n",
      "C:\\Users\\user\\anaconda3\\Lib\\site-packages\\IPython\\core\\pylabtools.py:152: UserWarning: Glyph 20154 (\\N{CJK UNIFIED IDEOGRAPH-4EBA}) missing from current font.\n",
      "  fig.canvas.print_figure(bytes_io, **kw)\n",
      "C:\\Users\\user\\anaconda3\\Lib\\site-packages\\IPython\\core\\pylabtools.py:152: UserWarning: Glyph 20998 (\\N{CJK UNIFIED IDEOGRAPH-5206}) missing from current font.\n",
      "  fig.canvas.print_figure(bytes_io, **kw)\n",
      "C:\\Users\\user\\anaconda3\\Lib\\site-packages\\IPython\\core\\pylabtools.py:152: UserWarning: Glyph 20139 (\\N{CJK UNIFIED IDEOGRAPH-4EAB}) missing from current font.\n",
      "  fig.canvas.print_figure(bytes_io, **kw)\n",
      "C:\\Users\\user\\anaconda3\\Lib\\site-packages\\IPython\\core\\pylabtools.py:152: UserWarning: Glyph 24171 (\\N{CJK UNIFIED IDEOGRAPH-5E6B}) missing from current font.\n",
      "  fig.canvas.print_figure(bytes_io, **kw)\n",
      "C:\\Users\\user\\anaconda3\\Lib\\site-packages\\IPython\\core\\pylabtools.py:152: UserWarning: Glyph 25512 (\\N{CJK UNIFIED IDEOGRAPH-63A8}) missing from current font.\n",
      "  fig.canvas.print_figure(bytes_io, **kw)\n",
      "C:\\Users\\user\\anaconda3\\Lib\\site-packages\\IPython\\core\\pylabtools.py:152: UserWarning: Glyph 20570 (\\N{CJK UNIFIED IDEOGRAPH-505A}) missing from current font.\n",
      "  fig.canvas.print_figure(bytes_io, **kw)\n",
      "C:\\Users\\user\\anaconda3\\Lib\\site-packages\\IPython\\core\\pylabtools.py:152: UserWarning: Glyph 22909 (\\N{CJK UNIFIED IDEOGRAPH-597D}) missing from current font.\n",
      "  fig.canvas.print_figure(bytes_io, **kw)\n",
      "C:\\Users\\user\\anaconda3\\Lib\\site-packages\\IPython\\core\\pylabtools.py:152: UserWarning: Glyph 39449 (\\N{CJK UNIFIED IDEOGRAPH-9A19}) missing from current font.\n",
      "  fig.canvas.print_figure(bytes_io, **kw)\n",
      "C:\\Users\\user\\anaconda3\\Lib\\site-packages\\IPython\\core\\pylabtools.py:152: UserWarning: Glyph 23376 (\\N{CJK UNIFIED IDEOGRAPH-5B50}) missing from current font.\n",
      "  fig.canvas.print_figure(bytes_io, **kw)\n",
      "C:\\Users\\user\\anaconda3\\Lib\\site-packages\\IPython\\core\\pylabtools.py:152: UserWarning: Glyph 19981 (\\N{CJK UNIFIED IDEOGRAPH-4E0D}) missing from current font.\n",
      "  fig.canvas.print_figure(bytes_io, **kw)\n",
      "C:\\Users\\user\\anaconda3\\Lib\\site-packages\\IPython\\core\\pylabtools.py:152: UserWarning: Glyph 23526 (\\N{CJK UNIFIED IDEOGRAPH-5BE6}) missing from current font.\n",
      "  fig.canvas.print_figure(bytes_io, **kw)\n",
      "C:\\Users\\user\\anaconda3\\Lib\\site-packages\\IPython\\core\\pylabtools.py:152: UserWarning: Glyph 21644 (\\N{CJK UNIFIED IDEOGRAPH-548C}) missing from current font.\n",
      "  fig.canvas.print_figure(bytes_io, **kw)\n",
      "C:\\Users\\user\\anaconda3\\Lib\\site-packages\\IPython\\core\\pylabtools.py:152: UserWarning: Glyph 27450 (\\N{CJK UNIFIED IDEOGRAPH-6B3A}) missing from current font.\n",
      "  fig.canvas.print_figure(bytes_io, **kw)\n",
      "C:\\Users\\user\\anaconda3\\Lib\\site-packages\\IPython\\core\\pylabtools.py:152: UserWarning: Glyph 30340 (\\N{CJK UNIFIED IDEOGRAPH-7684}) missing from current font.\n",
      "  fig.canvas.print_figure(bytes_io, **kw)\n",
      "C:\\Users\\user\\anaconda3\\Lib\\site-packages\\IPython\\core\\pylabtools.py:152: UserWarning: Glyph 25163 (\\N{CJK UNIFIED IDEOGRAPH-624B}) missing from current font.\n",
      "  fig.canvas.print_figure(bytes_io, **kw)\n",
      "C:\\Users\\user\\anaconda3\\Lib\\site-packages\\IPython\\core\\pylabtools.py:152: UserWarning: Glyph 27861 (\\N{CJK UNIFIED IDEOGRAPH-6CD5}) missing from current font.\n",
      "  fig.canvas.print_figure(bytes_io, **kw)\n",
      "C:\\Users\\user\\anaconda3\\Lib\\site-packages\\IPython\\core\\pylabtools.py:152: UserWarning: Glyph 29983 (\\N{CJK UNIFIED IDEOGRAPH-751F}) missing from current font.\n",
      "  fig.canvas.print_figure(bytes_io, **kw)\n",
      "C:\\Users\\user\\anaconda3\\Lib\\site-packages\\IPython\\core\\pylabtools.py:152: UserWarning: Glyph 29006 (\\N{CJK UNIFIED IDEOGRAPH-714E}) missing from current font.\n",
      "  fig.canvas.print_figure(bytes_io, **kw)\n",
      "C:\\Users\\user\\anaconda3\\Lib\\site-packages\\IPython\\core\\pylabtools.py:152: UserWarning: Glyph 21253 (\\N{CJK UNIFIED IDEOGRAPH-5305}) missing from current font.\n",
      "  fig.canvas.print_figure(bytes_io, **kw)\n",
      "C:\\Users\\user\\anaconda3\\Lib\\site-packages\\IPython\\core\\pylabtools.py:152: UserWarning: Glyph 34928 (\\N{CJK UNIFIED IDEOGRAPH-8870}) missing from current font.\n",
      "  fig.canvas.print_figure(bytes_io, **kw)\n",
      "C:\\Users\\user\\anaconda3\\Lib\\site-packages\\IPython\\core\\pylabtools.py:152: UserWarning: Glyph 22914 (\\N{CJK UNIFIED IDEOGRAPH-5982}) missing from current font.\n",
      "  fig.canvas.print_figure(bytes_io, **kw)\n",
      "C:\\Users\\user\\anaconda3\\Lib\\site-packages\\IPython\\core\\pylabtools.py:152: UserWarning: Glyph 38988 (\\N{CJK UNIFIED IDEOGRAPH-984C}) missing from current font.\n",
      "  fig.canvas.print_figure(bytes_io, **kw)\n",
      "C:\\Users\\user\\anaconda3\\Lib\\site-packages\\IPython\\core\\pylabtools.py:152: UserWarning: Glyph 23229 (\\N{CJK UNIFIED IDEOGRAPH-5ABD}) missing from current font.\n",
      "  fig.canvas.print_figure(bytes_io, **kw)\n",
      "C:\\Users\\user\\anaconda3\\Lib\\site-packages\\IPython\\core\\pylabtools.py:152: UserWarning: Glyph 21674 (\\N{CJK UNIFIED IDEOGRAPH-54AA}) missing from current font.\n",
      "  fig.canvas.print_figure(bytes_io, **kw)\n",
      "C:\\Users\\user\\anaconda3\\Lib\\site-packages\\IPython\\core\\pylabtools.py:152: UserWarning: Glyph 20415 (\\N{CJK UNIFIED IDEOGRAPH-4FBF}) missing from current font.\n",
      "  fig.canvas.print_figure(bytes_io, **kw)\n",
      "C:\\Users\\user\\anaconda3\\Lib\\site-packages\\IPython\\core\\pylabtools.py:152: UserWarning: Glyph 23452 (\\N{CJK UNIFIED IDEOGRAPH-5B9C}) missing from current font.\n",
      "  fig.canvas.print_figure(bytes_io, **kw)\n",
      "C:\\Users\\user\\anaconda3\\Lib\\site-packages\\IPython\\core\\pylabtools.py:152: UserWarning: Glyph 33707 (\\N{CJK UNIFIED IDEOGRAPH-83AB}) missing from current font.\n",
      "  fig.canvas.print_figure(bytes_io, **kw)\n",
      "C:\\Users\\user\\anaconda3\\Lib\\site-packages\\IPython\\core\\pylabtools.py:152: UserWarning: Glyph 36010 (\\N{CJK UNIFIED IDEOGRAPH-8CAA}) missing from current font.\n",
      "  fig.canvas.print_figure(bytes_io, **kw)\n"
     ]
    },
    {
     "data": {
      "image/png": "[encoded data removed]",
      "text/plain": [
       "<Figure size 640x480 with 1 Axes>"
      ]
     },
     "metadata": {},
     "output_type": "display_data"
    }
   ],
   "source": [
    "import matplotlib.pyplot as plt\n",
    "\n",
    "# 获取特征重要性\n",
    "feature_importances = best_rf.feature_importances_\n",
    "\n",
    "# 将特征重要性与特征名字对应起来\n",
    "feature_names = tfidf_vectorizer.get_feature_names_out()\n",
    "features = sorted(zip(feature_importances, feature_names), reverse=True)\n",
    "\n",
    "# 打印最重要的前100个特征\n",
    "print(\"Top 100 important features:\")\n",
    "for importance, name in features[:100]:\n",
    "    print(f\"{name}: {importance}\")\n",
    "\n",
    "# 可视化最重要的前100个特征\n",
    "top_features = features[:100]\n",
    "plt.barh([name for importance, name in top_features], [importance for importance, name in top_features])\n",
    "plt.xlabel(\"Feature Importance\")\n",
    "plt.ylabel(\"Feature\")\n",
    "plt.title(\"Top 100 Important Features\")\n",
    "plt.gca().invert_yaxis()  # 使得最重要的特征在图的顶部\n",
    "plt.show()"
   ]
  },
  {
   "cell_type": "code",
   "execution_count": 52,
   "id": "90821913-5fcd-490c-b170-e15888ca7c35",
   "metadata": {},
   "outputs": [],
   "source": [
    "import re\n",
    "\n",
    "def clean_text(text):\n",
    "    # 删除用户名\n",
    "    text = re.sub(r'\\b\\w+媽咪\\b|\\b\\w+大\\b', '', text)\n",
    "    # 删除论坛特定术语\n",
    "    text = re.sub(r'\\bpush\\b|\\bpm\\b|\\bup\\b|\\bthx\\b|\\bthanks\\b|\\bsharing\\b', '', text)\n",
    "    # 删除感谢的表达\n",
    "    text = re.sub(r'\\b多謝提醒\\b|\\b謝謝提醒\\b|\\b謝謝分享\\b|\\b幫推\\b|\\b謝謝\\b', '', text)\n",
    "    # 删除日期和时间\n",
    "    text = re.sub(r'\\b\\d{6,}\\b', '', text)\n",
    "    # 删除其他无用信息\n",
    "    text = re.sub(r'\\bwhatsapp\\b|\\bfb\\b|\\big\\b|\\byahoo\\b|\\blihkg\\b', '', text)\n",
    "    # 删除一些常见的英文单词\n",
    "    text = re.sub(r'\\bthe\\b|\\bin\\b|\\band\\b|\\bor\\b|\\bfor\\b|\\bon\\b|\\bto\\b|\\byou\\b|\\bme\\b|\\bmy\\b', '', text)\n",
    "    # 删除过短的词汇\n",
    "    text = re.sub(r'\\b\\w{1,2}\\b', '', text)\n",
    "    return text.strip()\n",
    "\n",
    "# 应用数据清洗\n",
    "df['Cleaned_Combined_Content'] = df['Combined_Content'].apply(clean_text)"
   ]
  },
  {
   "cell_type": "code",
   "execution_count": 53,
   "id": "bae5be4d-a149-4606-8015-78c8a80e8bc4",
   "metadata": {
    "tags": []
   },
   "outputs": [
    {
     "name": "stdout",
     "output_type": "stream",
     "text": [
      "              precision    recall  f1-score   support\n",
      "\n",
      "           0       0.44      0.75      0.55       397\n",
      "           1       0.82      0.56      0.66       849\n",
      "\n",
      "    accuracy                           0.62      1246\n",
      "   macro avg       0.63      0.65      0.61      1246\n",
      "weighted avg       0.70      0.62      0.63      1246\n",
      "\n"
     ]
    }
   ],
   "source": [
    "X_clean = df['Cleaned_Combined_Content']\n",
    "\n",
    "# 重新划分数据集\n",
    "X_train_clean, X_test_clean, y_train, y_test = train_test_split(X_clean, y, test_size=0.3, random_state=42)\n",
    "\n",
    "# 重新进行TF-IDF转换\n",
    "X_train_tfidf_clean = tfidf_vectorizer.fit_transform(X_train_clean)\n",
    "X_test_tfidf_clean = tfidf_vectorizer.transform(X_test_clean)\n",
    "\n",
    "# 使用SMOTE进行过采样\n",
    "X_train_res_clean, y_train_res = smote.fit_resample(X_train_tfidf_clean, y_train)\n",
    "\n",
    "# 使用之前找到的最佳参数重新训练模型\n",
    "best_rf.fit(X_train_res_clean, y_train_res)\n",
    "\n",
    "# 重新评估模型\n",
    "y_pred_clean = best_rf.predict(X_test_tfidf_clean)\n",
    "print(classification_report(y_test, y_pred_clean))"
   ]
  },
  {
   "cell_type": "code",
   "execution_count": 54,
   "id": "cc64c0be-5ecc-4364-8a1b-a7e85cc11c16",
   "metadata": {
    "tags": []
   },
   "outputs": [
    {
     "name": "stdout",
     "output_type": "stream",
     "text": [
      "4032    過去一周執法部門共接獲91宗網上投資騙案總損失逾4300萬港元當中接近一半案件均源自白撞Wh...\n",
      "1829    頭先有位男仕打電話來無話找邊個又無講自己係邊個一出聲就話自己電話改左你知我係邊個嗎我我唔知喎...\n",
      "561     今次終於到我媽又估下佢係邊個 又話去深圳飲酒好彩之前同媽單定聲 話佢知有呢類人專呃人唔係都好...\n",
      "1583    電話詐騙停不了 好心男為救友被呃40萬人仔 東網專訊男子墮電騙陷阱失40萬人仔昨晚8時許一名...\n",
      "3026    家中長老來電我收到電話通知你電話將2個鐘會停止所以拿拿淋打比我知問我發生左咩事好明顯騙案來啦...\n",
      "Name: Cleaned_Combined_Content, dtype: object\n"
     ]
    }
   ],
   "source": [
    "# 假设 best_rf 是你训练好的模型，X_test_tfidf_clean 是清洗后的测试数据的 TF-IDF 表示\n",
    "y_pred = best_rf.predict(X_test_tfidf_clean)\n",
    "\n",
    "import numpy as np\n",
    "from sklearn.metrics import precision_recall_curve\n",
    "\n",
    "# 获取测试数据的预测概率\n",
    "y_scores = best_rf.predict_proba(X_test_tfidf_clean)[:, 1]\n",
    "\n",
    "# 计算所有可能阈值的精确度和召回率\n",
    "precisions, recalls, thresholds = precision_recall_curve(y_test, y_scores)\n",
    "\n",
    "# 选择一个阈值，这里我们举例选择一个阈值，实际操作中需要根据具体情况选择\n",
    "threshold = 0.5  # 例如，选择 0.5 作为阈值\n",
    "y_pred_adj = (y_scores >= threshold).astype(int)\n",
    "\n",
    "false_negatives = X_test_clean[(y_test == 1) & (y_pred_adj == 0)]\n",
    "\n",
    "# 查看一些假负例\n",
    "print(false_negatives.sample(5))  # 随机查看5个假负例"
   ]
  },
  {
   "cell_type": "code",
   "execution_count": 55,
   "id": "2d791532-192f-4f89-9d13-8eb5073e11ca",
   "metadata": {
    "tags": []
   },
   "outputs": [
    {
     "name": "stdout",
     "output_type": "stream",
     "text": [
      "1739    babybaby_pig  1774 0053 有冇啲電話騙案 係會知你同你家人個名打黎追數...\n",
      "109     Cheishui  23919 1326 事源係carousell維修DYSON風筒點知比人...\n",
      "881     去尖東某間譚仔食野入面好多大陸同胞食緊時有個拖喼中年肥男人無拉褲鏈去賣單個陣見佢係甘問收銀姐...\n",
      "2104    騙人騙到欠薪可笑1677 2123上傳下載附件23758  又唔係既佢地都係打工 超級閒人 ...\n",
      "599     有冇人有join你地知唔知係咩原來係保險你同佢買左電器有問題嘅話你搵代理整返如環境因素先賠當...\n",
      "                              ...                        \n",
      "921     花X銀行 citixxxk呃錢一向都係寄月結單找數我用左甘多年都好準時找數上個月無端端轉e ...\n",
      "756     日本京都著名景點之一南禪寺近日在官方網站發出公告指6月時有可疑男子借意幫遊客拍照從中收取費用...\n",
      "2484    滬江維多利亞家長智破騙局03月24日二 1234東網電視更多新聞短片滬江維多利亞學校小學部爆...\n",
      "1450    FeiLong  2295 0146 馬尼拉當街綁架已經不是新聞以前一向都有但最近半年簡直達...\n",
      "2154    小心請不要幫襯此人他是騙子收了錢不發貨不回覆警已報12854515227 0043上傳下載附...\n",
      "Name: Cleaned_Combined_Content, Length: 377, dtype: object\n"
     ]
    }
   ],
   "source": [
    "# 假设 y_test 是你的真实标签，y_pred_adj 是你的模型预测\n",
    "false_negatives = X_test_clean[(y_test == 1) & (y_pred_adj == 0)]\n",
    "\n",
    "# 查看假负例\n",
    "print(false_negatives)"
   ]
  },
  {
   "cell_type": "code",
   "execution_count": 56,
   "id": "e3332340-1a65-4c5b-b598-dded79695896",
   "metadata": {
    "tags": []
   },
   "outputs": [
    {
     "name": "stdout",
     "output_type": "stream",
     "text": [
      "[(' ', 22438), ('係', 4203), ('我', 3912), ('唔', 3348), ('佢', 2941), ('都', 2752), ('有', 2093), ('的', 1963), ('你', 1556), ('咁', 1430), ('個', 1416), ('人', 1412), ('話', 1299), ('就', 1244), ('好', 1199), ('到', 1016), ('又', 986), ('呢', 907), ('於', 895), ('去', 880), ('呃', 831), ('會', 824), ('要', 771), ('錢', 741), ('啦', 736), ('冇', 695), ('由', 694), ('但', 641), ('在', 619), ('地', 612), ('左', 610), ('得', 607), ('睇', 605), ('真', 572), ('無', 560), ('是', 536), ('呀', 534), ('可以', 531), ('咗', 528), ('買', 522), ('咩', 522), ('d', 520), ('比', 512), ('啲', 509), ('做', 508), ('原帖', 491), ('上', 490), ('後', 486), ('自己', 483), ('同', 478), ('嘅', 476), ('電話', 455), ('俾', 449), ('騙', 448), ('了', 445), ('既', 424), ('叫', 412), ('咪', 398), ('發表', 385), ('多', 379), ('用', 373), ('被', 370), ('為', 365), ('打', 353), ('公司', 342), ('月', 335), ('想', 330), ('香港', 322), ('再', 320), ('搵', 315), ('下', 314), ('如果', 311), ('住', 310), ('知', 306), ('收到', 302), ('來', 291), ('小心', 291), ('對', 285), ('大家', 281), ('D', 278), ('見', 278), ('可能', 274), ('一', 272), ('時', 270), ('一個', 269), ('所以', 266), ('他', 257), ('2', 254), ('好多', 252), ('講', 242), ('等', 240), ('跟', 239), ('先', 238), ('間', 237), ('年', 237), ('有人', 227), ('幫', 225), ('諗', 220), ('只', 216), ('問', 215), ('過', 214), ('歲', 213), ('不', 212), ('朋友', 211), ('因為', 208), ('警方', 206), ('大', 203), ('及', 203), ('嚟', 199), ('喎', 196), ('請', 194), ('以', 192), ('回覆', 192), ('說', 190), ('附件', 188), ('已', 187), ('傳下載', 186), ('走', 184), ('中', 184), ('日', 182), ('識', 182), ('之', 181), ('女', 181), ('幾', 179), ('帖子', 177), ('一定', 177), ('架', 177), ('聽', 175), ('該', 175), ('囉', 174), ('3', 173), ('其實', 170), ('騙案', 169), ('_', 168), ('她', 163), ('之前', 162), ('或', 162), ('返', 162), ('賣', 161), ('X', 161), ('好似', 159), ('問題', 158), ('男人', 156), ('攞', 156), ('和', 156), ('今日', 156), ('哋', 151), ('也', 151), ('乜', 150), ('約', 148), ('野', 147), ('入', 146), ('騙子', 146), ('收', 145), ('應該', 144), ('銀行', 144), ('事', 144), ('埋', 143), ('喺', 143), ('嘢', 140), ('嗰', 140), ('未', 140), ('最', 139), ('開', 135), ('而', 134), ('點', 134), ('可', 133), ('即', 133), ('原', 133), ('出', 131), ('萬', 131), ('與', 130), ('欺騙', 128), ('不過', 127), ('死', 126), ('女人', 125), ('仲', 124), ('隻', 124), ('1', 124), ('文章', 124), ('check', 121), ('騙徒', 121), ('亦', 119), ('新', 119), ('其他', 118), ('吾', 117), ('4', 117), ('報警', 116), ('屋企', 115), ('啱', 115), ('電', 114), ('post', 112), ('食', 110), ('5', 110), ('10', 110), ('向', 109), ('其', 109), ('黎', 108), ('要求', 108), ('晒', 107)]\n"
     ]
    }
   ],
   "source": [
    "from collections import Counter\n",
    "import jieba\n",
    "\n",
    "# 合并所有假负例文本\n",
    "all_false_negatives_text = \" \".join(false_negatives)\n",
    "\n",
    "# 使用jieba进行中文分词\n",
    "words = jieba.cut(all_false_negatives_text)\n",
    "\n",
    "# 计数每个词的出现次数\n",
    "word_counts = Counter(words)\n",
    "\n",
    "# 输出最常见的200个词\n",
    "print(word_counts.most_common(200))"
   ]
  },
  {
   "cell_type": "code",
   "execution_count": 57,
   "id": "93d5cba4-abd5-4d66-ab3f-99b26f19d838",
   "metadata": {
    "tags": []
   },
   "outputs": [],
   "source": [
    "stop_words = set(['的', '是', '有', '我', '你', '他', '她', '我们', '你们', '他们', '她们', '在', '和', '及', '与', '也', '了', '呢', '啦', '咁', '係', '唔', '佢', '都', '個', '人', '話', '就', '好', '到', '又', '於', '去', '會', '要', '啲', '冇', '由', '但', '地', '左', '得', '睇', '真', '無', '呀', '可以', '咗', '買', '咩', 'd', '比', '做', '上', '後', '自己', '同', '嘅', '俾', '了', '既', '叫', '咪', '多', '用', '被', '為', '打', '公司', '月', '想', '香港', '再', '搵', '下', '如果', '住', '知', '收到', '來', '對', '大家', '見', '可能', '一', '時', '一個', '所以', '因為', '大', '嚟', '喎', '請', '以', '回覆', '說', '已', '傳下載', '走', '中', '日', '識', '之', '女', '幾', '帖子', '一定', '架', '聽', '囉', '3', '其實', '_', '之前', '或', '返', '賣', 'X', '好似', '問題', '男人', '攞', '和', '今日', '哋', '乜', '約', '野', '入', '收', '應該', '銀行', '事', '埋', '喺', '嘢', '嗰', '未', '最', '開', '而', '點', '可', '即', '原', '出', '萬', '與', '不過', '死', '女人', '仲', '隻', '1', '文章', 'check', '亦', '新', '其他', '吾', '4', '報警', '屋企', '啱', '電', 'post', '食', '5', '10', '向', '其', '黎', '要求', '晒'])\n",
    "\n",
    "def clean_text(text):\n",
    "    words = jieba.cut(text)\n",
    "    cleaned_words = [word for word in words if word not in stop_words and len(word) > 1]\n",
    "    return ' '.join(cleaned_words)\n",
    "\n",
    "df['Updated_Cleaned_Content'] = df['Combined_Content'].apply(clean_text)"
   ]
  },
  {
   "cell_type": "code",
   "execution_count": 58,
   "id": "4daf4839-5fa4-4d01-836a-31e9c8665fcd",
   "metadata": {
    "tags": []
   },
   "outputs": [],
   "source": [
    "from sklearn.feature_extraction.text import TfidfVectorizer\n",
    "\n",
    "tfidf_vectorizer = TfidfVectorizer(max_features=5000, min_df=3, max_df=0.9)\n",
    "X_tfidf = tfidf_vectorizer.fit_transform(df['Updated_Cleaned_Content'])"
   ]
  },
  {
   "cell_type": "code",
   "execution_count": 59,
   "id": "4ac00fd6-c276-486e-af26-8f589d26ca2a",
   "metadata": {},
   "outputs": [
    {
     "name": "stdout",
     "output_type": "stream",
     "text": [
      "              precision    recall  f1-score   support\n",
      "\n",
      "           0       0.71      0.31      0.43       397\n",
      "           1       0.74      0.94      0.83       849\n",
      "\n",
      "    accuracy                           0.74      1246\n",
      "   macro avg       0.73      0.62      0.63      1246\n",
      "weighted avg       0.73      0.74      0.70      1246\n",
      "\n"
     ]
    }
   ],
   "source": [
    "from sklearn.model_selection import train_test_split\n",
    "from sklearn.metrics import classification_report\n",
    "from sklearn.ensemble import RandomForestClassifier\n",
    "\n",
    "# 确认y是包含标签信息的变量\n",
    "# X_clean 是经过清理的文本内容\n",
    "\n",
    "# 重新划分数据集\n",
    "X_train_clean, X_test_clean, y_train, y_test = train_test_split(X_clean, y, test_size=0.3, random_state=42)\n",
    "\n",
    "# 重新进行TF-IDF转换\n",
    "tfidf_vectorizer = TfidfVectorizer()  # 可能需要根据之前的设置来调整参数\n",
    "X_train_tfidf_clean = tfidf_vectorizer.fit_transform(X_train_clean)\n",
    "X_test_tfidf_clean = tfidf_vectorizer.transform(X_test_clean)\n",
    "\n",
    "# 使用SMOTE进行过采样（如果数据不平衡）\n",
    "from imblearn.over_sampling import SMOTE\n",
    "smote = SMOTE(random_state=42)\n",
    "X_train_res_clean, y_train_res = smote.fit_resample(X_train_tfidf_clean, y_train)\n",
    "\n",
    "# 使用之前找到的最佳参数重新训练模型\n",
    "best_rf = RandomForestClassifier(n_estimators=100, max_depth=None, random_state=42)\n",
    "best_rf.fit(X_train_res_clean, y_train_res)\n",
    "\n",
    "# 重新评估模型\n",
    "y_pred_clean = best_rf.predict(X_test_tfidf_clean)\n",
    "print(classification_report(y_test, y_pred_clean))"
   ]
  },
  {
   "cell_type": "code",
   "execution_count": 60,
   "id": "88108812-6b20-44a7-9747-c1739d1d9aca",
   "metadata": {
    "tags": []
   },
   "outputs": [
    {
     "name": "stdout",
     "output_type": "stream",
     "text": [
      "              precision    recall  f1-score   support\n",
      "\n",
      "           0       0.58      0.45      0.51       101\n",
      "           1       0.75      0.84      0.79       199\n",
      "\n",
      "    accuracy                           0.71       300\n",
      "   macro avg       0.67      0.64      0.65       300\n",
      "weighted avg       0.69      0.71      0.70       300\n",
      "\n"
     ]
    }
   ],
   "source": [
    "from sklearn.model_selection import train_test_split\n",
    "from sklearn.ensemble import RandomForestClassifier\n",
    "from sklearn.metrics import classification_report\n",
    "\n",
    "# 确保替换 'YourLabelColumnName' 为你的DataFrame中实际的标签列名称\n",
    "X_train_small, X_test_small, y_train_small, y_test_small = train_test_split(\n",
    "    X_tfidf[:1000], df['label'][:1000], test_size=0.3, random_state=42)\n",
    "\n",
    "# 初始化随机森林模型，并设置 n_jobs=-1 使用所有可用的CPU核心\n",
    "best_rf_small = RandomForestClassifier(n_estimators=100, max_depth=None, random_state=42, n_jobs=-1)\n",
    "\n",
    "# 训练模型\n",
    "best_rf_small.fit(X_train_small, y_train_small)\n",
    "\n",
    "# 进行预测\n",
    "y_pred_small = best_rf_small.predict(X_test_small)\n",
    "\n",
    "# 打印分类报告\n",
    "print(classification_report(y_test_small, y_pred_small))\n"
   ]
  },
  {
   "cell_type": "code",
   "execution_count": 25,
   "id": "9eb4a2b8-4a93-48be-801f-96f456bddc46",
   "metadata": {
    "tags": []
   },
   "outputs": [],
   "source": [
    "#1. 使用 TF-IDF、SMOTE 和最佳参数的模型\n",
    "#准确率（accuracy）：74%\n",
    "#对于非诈骗类（标签0）：精确率为71%，召回率为31%，F1分数为43%。\n",
    "#对于诈骗类（标签1）：精确率为74%，召回率为94%，F1分数为83%。\n",
    "#2. 使用所有CPU核心的随机森林模型\n",
    "#准确率（accuracy）：71%\n",
    "#对于非诈骗类（标签0）：精确率为58%，召回率为45%，F1分数为51%。\n",
    "#对于诈骗类（标签1）：精确率为75%，召回率为84%，F1分数为79%。\n",
    "#分析与建议\n",
    "#第一个方法在整体准确率上略高于第二个方法，特别是在识别诈骗类别上的召回率非常高（94%），这意味着模型能够很好地识别出大多数的诈骗案例。然而，对于非诈骗类别的召回率相对较低（31%），表示有较多的非诈骗案例被错误地归类为诈骗。\n",
    "#第二个方法在处理较小数据集时的表现较为平衡，尽管整体准确率略低，但非诈骗类别的召回率提高到了45%，这意味着模型在减少将非诈骗案例误判为诈骗的同时，仍然保持了对诈骗案例较高的识别能力。"
   ]
  },
  {
   "cell_type": "code",
   "execution_count": 61,
   "id": "d1faba89-f1f6-4655-bfc8-87f5184b2294",
   "metadata": {
    "tags": []
   },
   "outputs": [
    {
     "name": "stdout",
     "output_type": "stream",
     "text": [
      "Fitting 3 folds for each of 36 candidates, totalling 108 fits\n",
      "Best parameters: {'max_depth': None, 'min_samples_split': 10, 'n_estimators': 100}\n",
      "Best score: 0.8445892455231352\n",
      "              precision    recall  f1-score   support\n",
      "\n",
      "           0       0.71      0.30      0.43       397\n",
      "           1       0.74      0.94      0.83       849\n",
      "\n",
      "    accuracy                           0.74      1246\n",
      "   macro avg       0.73      0.62      0.63      1246\n",
      "weighted avg       0.73      0.74      0.70      1246\n",
      "\n"
     ]
    }
   ],
   "source": [
    "from sklearn.model_selection import GridSearchCV\n",
    "from sklearn.ensemble import RandomForestClassifier\n",
    "\n",
    "# 设置你想要调整的参数网格\n",
    "param_grid = {\n",
    "    'n_estimators': [100, 200, 300],  # 考虑100，200，300棵树\n",
    "    'max_depth': [None, 10, 20, 30],  # 考虑不同的最大深度\n",
    "    'min_samples_split': [2, 5, 10]  # 考虑最小样本分割\n",
    "}\n",
    "\n",
    "# 初始化随机森林模型\n",
    "rf = RandomForestClassifier(random_state=42)\n",
    "\n",
    "# 初始化网格搜索对象，cv=3表示3折交叉验证\n",
    "grid_search = GridSearchCV(estimator=rf, param_grid=param_grid, cv=3, n_jobs=-1, verbose=2)\n",
    "\n",
    "# 在训练数据上运行网格搜索\n",
    "grid_search.fit(X_train_res_clean, y_train_res)\n",
    "\n",
    "# 输出最佳参数和最佳模型的得分\n",
    "print(f\"Best parameters: {grid_search.best_params_}\")\n",
    "print(f\"Best score: {grid_search.best_score_}\")\n",
    "\n",
    "# 使用最佳参数的模型进行预测\n",
    "best_model = grid_search.best_estimator_\n",
    "y_pred = best_model.predict(X_test_tfidf_clean)\n",
    "\n",
    "# 打印分类报告\n",
    "print(classification_report(y_test, y_pred))"
   ]
  },
  {
   "cell_type": "code",
   "execution_count": 64,
   "id": "147e591d-f990-4826-9b62-e42119c1c2c0",
   "metadata": {
    "tags": []
   },
   "outputs": [
    {
     "data": {
      "text/html": [
       "<style>#sk-container-id-2 {color: black;}#sk-container-id-2 pre{padding: 0;}#sk-container-id-2 div.sk-toggleable {background-color: white;}#sk-container-id-2 label.sk-toggleable__label {cursor: pointer;display: block;width: 100%;margin-bottom: 0;padding: 0.3em;box-sizing: border-box;text-align: center;}#sk-container-id-2 label.sk-toggleable__label-arrow:before {content: \"▸\";float: left;margin-right: 0.25em;color: #696969;}#sk-container-id-2 label.sk-toggleable__label-arrow:hover:before {color: black;}#sk-container-id-2 div.sk-estimator:hover label.sk-toggleable__label-arrow:before {color: black;}#sk-container-id-2 div.sk-toggleable__content {max-height: 0;max-width: 0;overflow: hidden;text-align: left;background-color: #f0f8ff;}#sk-container-id-2 div.sk-toggleable__content pre {margin: 0.2em;color: black;border-radius: 0.25em;background-color: #f0f8ff;}#sk-container-id-2 input.sk-toggleable__control:checked~div.sk-toggleable__content {max-height: 200px;max-width: 100%;overflow: auto;}#sk-container-id-2 input.sk-toggleable__control:checked~label.sk-toggleable__label-arrow:before {content: \"▾\";}#sk-container-id-2 div.sk-estimator input.sk-toggleable__control:checked~label.sk-toggleable__label {background-color: #d4ebff;}#sk-container-id-2 div.sk-label input.sk-toggleable__control:checked~label.sk-toggleable__label {background-color: #d4ebff;}#sk-container-id-2 input.sk-hidden--visually {border: 0;clip: rect(1px 1px 1px 1px);clip: rect(1px, 1px, 1px, 1px);height: 1px;margin: -1px;overflow: hidden;padding: 0;position: absolute;width: 1px;}#sk-container-id-2 div.sk-estimator {font-family: monospace;background-color: #f0f8ff;border: 1px dotted black;border-radius: 0.25em;box-sizing: border-box;margin-bottom: 0.5em;}#sk-container-id-2 div.sk-estimator:hover {background-color: #d4ebff;}#sk-container-id-2 div.sk-parallel-item::after {content: \"\";width: 100%;border-bottom: 1px solid gray;flex-grow: 1;}#sk-container-id-2 div.sk-label:hover label.sk-toggleable__label {background-color: #d4ebff;}#sk-container-id-2 div.sk-serial::before {content: \"\";position: absolute;border-left: 1px solid gray;box-sizing: border-box;top: 0;bottom: 0;left: 50%;z-index: 0;}#sk-container-id-2 div.sk-serial {display: flex;flex-direction: column;align-items: center;background-color: white;padding-right: 0.2em;padding-left: 0.2em;position: relative;}#sk-container-id-2 div.sk-item {position: relative;z-index: 1;}#sk-container-id-2 div.sk-parallel {display: flex;align-items: stretch;justify-content: center;background-color: white;position: relative;}#sk-container-id-2 div.sk-item::before, #sk-container-id-2 div.sk-parallel-item::before {content: \"\";position: absolute;border-left: 1px solid gray;box-sizing: border-box;top: 0;bottom: 0;left: 50%;z-index: -1;}#sk-container-id-2 div.sk-parallel-item {display: flex;flex-direction: column;z-index: 1;position: relative;background-color: white;}#sk-container-id-2 div.sk-parallel-item:first-child::after {align-self: flex-end;width: 50%;}#sk-container-id-2 div.sk-parallel-item:last-child::after {align-self: flex-start;width: 50%;}#sk-container-id-2 div.sk-parallel-item:only-child::after {width: 0;}#sk-container-id-2 div.sk-dashed-wrapped {border: 1px dashed gray;margin: 0 0.4em 0.5em 0.4em;box-sizing: border-box;padding-bottom: 0.4em;background-color: white;}#sk-container-id-2 div.sk-label label {font-family: monospace;font-weight: bold;display: inline-block;line-height: 1.2em;}#sk-container-id-2 div.sk-label-container {text-align: center;}#sk-container-id-2 div.sk-container {/* jupyter's `normalize.less` sets `[hidden] { display: none; }` but bootstrap.min.css set `[hidden] { display: none !important; }` so we also need the `!important` here to be able to override the default hidden behavior on the sphinx rendered scikit-learn.org. See: https://github.com/scikit-learn/scikit-learn/issues/21755 */display: inline-block !important;position: relative;}#sk-container-id-2 div.sk-text-repr-fallback {display: none;}</style><div id=\"sk-container-id-2\" class=\"sk-top-container\"><div class=\"sk-text-repr-fallback\"><pre>RandomForestClassifier(min_samples_split=10, random_state=42)</pre><b>In a Jupyter environment, please rerun this cell to show the HTML representation or trust the notebook. <br />On GitHub, the HTML representation is unable to render, please try loading this page with nbviewer.org.</b></div><div class=\"sk-container\" hidden><div class=\"sk-item\"><div class=\"sk-estimator sk-toggleable\"><input class=\"sk-toggleable__control sk-hidden--visually\" id=\"sk-estimator-id-2\" type=\"checkbox\" checked><label for=\"sk-estimator-id-2\" class=\"sk-toggleable__label sk-toggleable__label-arrow\">RandomForestClassifier</label><div class=\"sk-toggleable__content\"><pre>RandomForestClassifier(min_samples_split=10, random_state=42)</pre></div></div></div></div></div>"
      ],
      "text/plain": [
       "RandomForestClassifier(min_samples_split=10, random_state=42)"
      ]
     },
     "execution_count": 64,
     "metadata": {},
     "output_type": "execute_result"
    }
   ],
   "source": [
    "best_rf = RandomForestClassifier(n_estimators=100, max_depth=None, min_samples_split=10, random_state=42)\n",
    "best_rf.fit(X_train_res_clean, y_train_res)"
   ]
  },
  {
   "cell_type": "code",
   "execution_count": 65,
   "id": "e1e32cb7-841c-4b8f-bf35-1dfa6ea3ebea",
   "metadata": {
    "tags": []
   },
   "outputs": [
    {
     "name": "stdout",
     "output_type": "stream",
     "text": [
      "{'bootstrap': True, 'ccp_alpha': 0.0, 'class_weight': None, 'criterion': 'gini', 'max_depth': None, 'max_features': 'sqrt', 'max_leaf_nodes': None, 'max_samples': None, 'min_impurity_decrease': 0.0, 'min_samples_leaf': 1, 'min_samples_split': 10, 'min_weight_fraction_leaf': 0.0, 'n_estimators': 100, 'n_jobs': None, 'oob_score': False, 'random_state': 42, 'verbose': 0, 'warm_start': False}\n"
     ]
    }
   ],
   "source": [
    "print(best_rf.get_params())"
   ]
  },
  {
   "cell_type": "code",
   "execution_count": 67,
   "id": "3a8e9dfd-4cde-4d95-82fc-4c77eb213ec8",
   "metadata": {
    "tags": []
   },
   "outputs": [
    {
     "data": {
      "text/plain": [
       "['best_random_forest_model.joblib']"
      ]
     },
     "execution_count": 67,
     "metadata": {},
     "output_type": "execute_result"
    }
   ],
   "source": [
    "from joblib import dump\n",
    "\n",
    "# Save the model to a file\n",
    "dump(best_rf, 'best_random_forest_model.joblib')"
   ]
  },
  {
   "cell_type": "code",
   "execution_count": 2,
   "id": "9124a433-2d06-41d3-85ef-c090a52f2e98",
   "metadata": {
    "tags": []
   },
   "outputs": [
    {
     "name": "stdout",
     "output_type": "stream",
     "text": [
      "Requirement already satisfied: joblib in c:\\users\\user\\anaconda3\\lib\\site-packages (1.2.0)\n",
      "Note: you may need to restart the kernel to use updated packages.\n"
     ]
    }
   ],
   "source": [
    "pip install joblib"
   ]
  },
  {
   "cell_type": "code",
   "execution_count": 3,
   "id": "728a9668-6c7c-46c7-a62f-81b77d930b07",
   "metadata": {
    "tags": []
   },
   "outputs": [
    {
     "ename": "ImportError",
     "evalue": "cannot import name 'joblib' from 'sklearn.externals' (C:\\Users\\user\\anaconda3\\Lib\\site-packages\\sklearn\\externals\\__init__.py)",
     "output_type": "error",
     "traceback": [
      "\u001b[1;31m---------------------------------------------------------------------------\u001b[0m",
      "\u001b[1;31mImportError\u001b[0m                               Traceback (most recent call last)",
      "Cell \u001b[1;32mIn[3], line 1\u001b[0m\n\u001b[1;32m----> 1\u001b[0m \u001b[38;5;28;01mfrom\u001b[39;00m \u001b[38;5;21;01msklearn\u001b[39;00m\u001b[38;5;21;01m.\u001b[39;00m\u001b[38;5;21;01mexternals\u001b[39;00m \u001b[38;5;28;01mimport\u001b[39;00m joblib\n\u001b[0;32m      3\u001b[0m \u001b[38;5;66;03m# 假设您的向量化器变量名为 tfidf_vectorizer\u001b[39;00m\n\u001b[0;32m      4\u001b[0m \u001b[38;5;66;03m# 您需要将它替换成您实际使用的变量名\u001b[39;00m\n\u001b[0;32m      5\u001b[0m joblib\u001b[38;5;241m.\u001b[39mdump(tfidf_vectorizer, \u001b[38;5;124m'\u001b[39m\u001b[38;5;124mtfidf_vectorizer.joblib\u001b[39m\u001b[38;5;124m'\u001b[39m)\n",
      "\u001b[1;31mImportError\u001b[0m: cannot import name 'joblib' from 'sklearn.externals' (C:\\Users\\user\\anaconda3\\Lib\\site-packages\\sklearn\\externals\\__init__.py)"
     ]
    }
   ],
   "source": [
    "from sklearn.externals import joblib\n",
    "\n",
    "# 假设您的向量化器变量名为 tfidf_vectorizer\n",
    "# 您需要将它替换成您实际使用的变量名\n",
    "joblib.dump(tfidf_vectorizer, 'tfidf_vectorizer.joblib')"
   ]
  },
  {
   "cell_type": "code",
   "execution_count": null,
   "id": "a9c7e50d-02fb-4e2a-bbcd-3092bd50be8d",
   "metadata": {},
   "outputs": [],
   "source": []
  }
 ],
 "metadata": {
  "kernelspec": {
   "display_name": "Python 3 (ipykernel)",
   "language": "python",
   "name": "python3"
  },
  "language_info": {
   "codemirror_mode": {
    "name": "ipython",
    "version": 3
   },
   "file_extension": ".py",
   "mimetype": "text/x-python",
   "name": "python",
   "nbconvert_exporter": "python",
   "pygments_lexer": "ipython3",
   "version": "3.11.4"
  }
 },
 "nbformat": 4,
 "nbformat_minor": 5
}
